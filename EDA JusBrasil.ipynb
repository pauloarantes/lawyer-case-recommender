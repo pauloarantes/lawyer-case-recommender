{
 "cells": [
  {
   "cell_type": "code",
   "execution_count": 1,
   "metadata": {
    "collapsed": false
   },
   "outputs": [],
   "source": [
    "%matplotlib inline\n",
    "import pandas as pd\n",
    "import numpy as np\n",
    "import matplotlib.pyplot as plt"
   ]
  },
  {
   "cell_type": "code",
   "execution_count": 2,
   "metadata": {
    "collapsed": true
   },
   "outputs": [],
   "source": [
    "path = '/Users/pauloarantes/Drive/galvanize/_capstone/Datasets - Capstone/Jus Brasil/lawyer_interactions20160616v2.csv'"
   ]
  },
  {
   "cell_type": "code",
   "execution_count": 3,
   "metadata": {
    "collapsed": false
   },
   "outputs": [],
   "source": [
    "cols = ['lawyer_id',\n",
    "'is_hot_case',\n",
    "'hot_lead_spent',\n",
    "'text_message_sent',\n",
    "'phone_visualized',\n",
    "'legal_case_id',\n",
    "'title',\n",
    "'expertise',\n",
    "'location',\n",
    "'created_at',\n",
    "'referrer',\n",
    "'hiring_intent',\n",
    "'can_afford',\n",
    "'text']"
   ]
  },
  {
   "cell_type": "code",
   "execution_count": 4,
   "metadata": {
    "collapsed": false
   },
   "outputs": [],
   "source": [
    "df = pd.read_csv(path, sep=';', header=None, usecols=range(14), low_memory=False)\n",
    "df.columns = cols"
   ]
  },
  {
   "cell_type": "code",
   "execution_count": 8,
   "metadata": {
    "collapsed": false
   },
   "outputs": [
    {
     "data": {
      "text/html": [
       "<div>\n",
       "<table border=\"1\" class=\"dataframe\">\n",
       "  <thead>\n",
       "    <tr style=\"text-align: right;\">\n",
       "      <th></th>\n",
       "      <th>lawyer_id</th>\n",
       "      <th>is_hot_case</th>\n",
       "      <th>hot_lead_spent</th>\n",
       "      <th>text_message_sent</th>\n",
       "      <th>phone_visualized</th>\n",
       "      <th>legal_case_id</th>\n",
       "      <th>title</th>\n",
       "      <th>expertise</th>\n",
       "      <th>location</th>\n",
       "      <th>created_at</th>\n",
       "      <th>referrer</th>\n",
       "      <th>hiring_intent</th>\n",
       "      <th>can_afford</th>\n",
       "      <th>text</th>\n",
       "    </tr>\n",
       "  </thead>\n",
       "  <tbody>\n",
       "    <tr>\n",
       "      <th>0</th>\n",
       "      <td>3744247</td>\n",
       "      <td>1</td>\n",
       "      <td>1</td>\n",
       "      <td>1</td>\n",
       "      <td>0</td>\n",
       "      <td>783337</td>\n",
       "      <td>Dúvida de Rosângela em Direito de Família</td>\n",
       "      <td>26413205</td>\n",
       "      <td>646425</td>\n",
       "      <td>2016-06-17 01:16:12</td>\n",
       "      <td>\\N</td>\n",
       "      <td>1</td>\n",
       "      <td>1</td>\n",
       "      <td>Separação e pensão alimentícia</td>\n",
       "    </tr>\n",
       "    <tr>\n",
       "      <th>1</th>\n",
       "      <td>6088646</td>\n",
       "      <td>1</td>\n",
       "      <td>0</td>\n",
       "      <td>0</td>\n",
       "      <td>0</td>\n",
       "      <td>783337</td>\n",
       "      <td>Dúvida de Rosângela em Direito de Família</td>\n",
       "      <td>26413205</td>\n",
       "      <td>646425</td>\n",
       "      <td>2016-06-17 01:16:12</td>\n",
       "      <td>\\N</td>\n",
       "      <td>1</td>\n",
       "      <td>1</td>\n",
       "      <td>Separação e pensão alimentícia</td>\n",
       "    </tr>\n",
       "    <tr>\n",
       "      <th>2</th>\n",
       "      <td>6358113</td>\n",
       "      <td>1</td>\n",
       "      <td>0</td>\n",
       "      <td>0</td>\n",
       "      <td>0</td>\n",
       "      <td>783337</td>\n",
       "      <td>Dúvida de Rosângela em Direito de Família</td>\n",
       "      <td>26413205</td>\n",
       "      <td>646425</td>\n",
       "      <td>2016-06-17 01:16:12</td>\n",
       "      <td>\\N</td>\n",
       "      <td>1</td>\n",
       "      <td>1</td>\n",
       "      <td>Separação e pensão alimentícia</td>\n",
       "    </tr>\n",
       "    <tr>\n",
       "      <th>3</th>\n",
       "      <td>6427203</td>\n",
       "      <td>1</td>\n",
       "      <td>1</td>\n",
       "      <td>1</td>\n",
       "      <td>0</td>\n",
       "      <td>783337</td>\n",
       "      <td>Dúvida de Rosângela em Direito de Família</td>\n",
       "      <td>26413205</td>\n",
       "      <td>646425</td>\n",
       "      <td>2016-06-17 01:16:12</td>\n",
       "      <td>\\N</td>\n",
       "      <td>1</td>\n",
       "      <td>1</td>\n",
       "      <td>Separação e pensão alimentícia</td>\n",
       "    </tr>\n",
       "    <tr>\n",
       "      <th>4</th>\n",
       "      <td>3702793</td>\n",
       "      <td>0</td>\n",
       "      <td>0</td>\n",
       "      <td>0</td>\n",
       "      <td>0</td>\n",
       "      <td>783336</td>\n",
       "      <td>Dúvida de glaucia santos em Direito Imobiliário</td>\n",
       "      <td>26413223</td>\n",
       "      <td>693822</td>\n",
       "      <td>2016-06-17 01:16:08</td>\n",
       "      <td>http://www.jusbrasil.com.br/busca?q=POSSIBILID...</td>\n",
       "      <td>0</td>\n",
       "      <td>0</td>\n",
       "      <td>Boa noite.Fiz um contrato de troca/permuta de ...</td>\n",
       "    </tr>\n",
       "  </tbody>\n",
       "</table>\n",
       "</div>"
      ],
      "text/plain": [
       "   lawyer_id  is_hot_case  hot_lead_spent  text_message_sent  \\\n",
       "0    3744247            1               1                  1   \n",
       "1    6088646            1               0                  0   \n",
       "2    6358113            1               0                  0   \n",
       "3    6427203            1               1                  1   \n",
       "4    3702793            0               0                  0   \n",
       "\n",
       "   phone_visualized  legal_case_id  \\\n",
       "0                 0         783337   \n",
       "1                 0         783337   \n",
       "2                 0         783337   \n",
       "3                 0         783337   \n",
       "4                 0         783336   \n",
       "\n",
       "                                             title  expertise  location  \\\n",
       "0        Dúvida de Rosângela em Direito de Família   26413205    646425   \n",
       "1        Dúvida de Rosângela em Direito de Família   26413205    646425   \n",
       "2        Dúvida de Rosângela em Direito de Família   26413205    646425   \n",
       "3        Dúvida de Rosângela em Direito de Família   26413205    646425   \n",
       "4  Dúvida de glaucia santos em Direito Imobiliário   26413223    693822   \n",
       "\n",
       "            created_at                                           referrer  \\\n",
       "0  2016-06-17 01:16:12                                                 \\N   \n",
       "1  2016-06-17 01:16:12                                                 \\N   \n",
       "2  2016-06-17 01:16:12                                                 \\N   \n",
       "3  2016-06-17 01:16:12                                                 \\N   \n",
       "4  2016-06-17 01:16:08  http://www.jusbrasil.com.br/busca?q=POSSIBILID...   \n",
       "\n",
       "   hiring_intent  can_afford  \\\n",
       "0              1           1   \n",
       "1              1           1   \n",
       "2              1           1   \n",
       "3              1           1   \n",
       "4              0           0   \n",
       "\n",
       "                                                text  \n",
       "0                     Separação e pensão alimentícia  \n",
       "1                     Separação e pensão alimentícia  \n",
       "2                     Separação e pensão alimentícia  \n",
       "3                     Separação e pensão alimentícia  \n",
       "4  Boa noite.Fiz um contrato de troca/permuta de ...  "
      ]
     },
     "execution_count": 8,
     "metadata": {},
     "output_type": "execute_result"
    }
   ],
   "source": [
    "df.head()"
   ]
  },
  {
   "cell_type": "code",
   "execution_count": null,
   "metadata": {
    "collapsed": false
   },
   "outputs": [],
   "source": [
    "df.info()"
   ]
  },
  {
   "cell_type": "code",
   "execution_count": null,
   "metadata": {
    "collapsed": false
   },
   "outputs": [],
   "source": [
    "# coms = pd.read_csv(path, header=None, sep=';', usecols=[13], quoting=2, encoding='utf-8')\n",
    "# coms[[13]].values[693][0].encode('cp860')"
   ]
  },
  {
   "cell_type": "code",
   "execution_count": 15,
   "metadata": {
    "collapsed": false,
    "scrolled": true
   },
   "outputs": [],
   "source": [
    "matrix_cols = []\n",
    "score_cols = ['is_hot_case', 'hot_lead_spent', 'text_message_sent', 'phone_visualized', 'hiring_intent', 'can_afford']"
   ]
  },
  {
   "cell_type": "code",
   "execution_count": null,
   "metadata": {
    "collapsed": false
   },
   "outputs": [],
   "source": [
    "df[(df.hot_lead_spent == 1)]['lawyer_id'].count()"
   ]
  },
  {
   "cell_type": "code",
   "execution_count": null,
   "metadata": {
    "collapsed": false
   },
   "outputs": [],
   "source": [
    "df[(df.hot_lead_spent == 1)][(df.text_message_sent == 1)]['lawyer_id'].count()"
   ]
  },
  {
   "cell_type": "code",
   "execution_count": null,
   "metadata": {
    "collapsed": true
   },
   "outputs": [],
   "source": []
  },
  {
   "cell_type": "code",
   "execution_count": null,
   "metadata": {
    "collapsed": false
   },
   "outputs": [],
   "source": [
    "df[(df.hot_lead_spent == 1)][(df.phone_visualized != 1)]['lawyer_id'].count()"
   ]
  },
  {
   "cell_type": "code",
   "execution_count": null,
   "metadata": {
    "collapsed": false
   },
   "outputs": [],
   "source": [
    "df[(df.hot_lead_spent == 1)][(df.phone_visualized == 1)]['text_message_sent'].sum()"
   ]
  },
  {
   "cell_type": "code",
   "execution_count": null,
   "metadata": {
    "collapsed": true
   },
   "outputs": [],
   "source": [
    "If 'hot_lead_spent' (3510):\n",
    "    'text_message_sent' (2471)\n",
    "    'phone_visualized' (1609)\n",
    "    both (570)"
   ]
  },
  {
   "cell_type": "code",
   "execution_count": null,
   "metadata": {
    "collapsed": false
   },
   "outputs": [],
   "source": [
    "df[(df.text_message_sent == 1)]['text_message_sent'].count()"
   ]
  },
  {
   "cell_type": "code",
   "execution_count": null,
   "metadata": {
    "collapsed": false
   },
   "outputs": [],
   "source": [
    "df[(df.phone_visualized == 1)]['phone_visualized'].count()"
   ]
  },
  {
   "cell_type": "code",
   "execution_count": null,
   "metadata": {
    "collapsed": false
   },
   "outputs": [],
   "source": [
    "df[(df.phone_visualized != 1)]['text_message_sent'].sum()"
   ]
  },
  {
   "cell_type": "code",
   "execution_count": null,
   "metadata": {
    "collapsed": false
   },
   "outputs": [],
   "source": [
    "df[(df.text_message_sent == 1)]['phone_visualized'].sum()"
   ]
  },
  {
   "cell_type": "code",
   "execution_count": null,
   "metadata": {
    "collapsed": false
   },
   "outputs": [],
   "source": [
    "df[df.is_hot_case == 1]['hot_lead_spent'].sum()"
   ]
  },
  {
   "cell_type": "code",
   "execution_count": null,
   "metadata": {
    "collapsed": false
   },
   "outputs": [],
   "source": [
    "df[df.is_hot_case == 1]['is_hot_case'].sum()"
   ]
  },
  {
   "cell_type": "code",
   "execution_count": null,
   "metadata": {
    "collapsed": false
   },
   "outputs": [],
   "source": [
    "df[df.hot_lead_spent == 1]['hot_lead_spent'].sum()"
   ]
  },
  {
   "cell_type": "code",
   "execution_count": null,
   "metadata": {
    "collapsed": false
   },
   "outputs": [],
   "source": [
    "df[df.hot_lead_spent == 1]"
   ]
  },
  {
   "cell_type": "code",
   "execution_count": null,
   "metadata": {
    "collapsed": false
   },
   "outputs": [],
   "source": [
    "df[df.can_afford == 1]['hiring_intent'].sum()"
   ]
  },
  {
   "cell_type": "code",
   "execution_count": 6,
   "metadata": {
    "collapsed": false
   },
   "outputs": [
    {
     "data": {
      "text/plain": [
       "lawyer_id            4264\n",
       "is_hot_case          4264\n",
       "hot_lead_spent       4264\n",
       "text_message_sent    4264\n",
       "phone_visualized     4264\n",
       "legal_case_id        4264\n",
       "title                4264\n",
       "expertise            4264\n",
       "location             4264\n",
       "created_at           4264\n",
       "referrer             4264\n",
       "hiring_intent        4264\n",
       "can_afford           4264\n",
       "text                 4264\n",
       "dtype: int64"
      ]
     },
     "execution_count": 6,
     "metadata": {},
     "output_type": "execute_result"
    }
   ],
   "source": [
    "df[df.referrer != ''].count()"
   ]
  },
  {
   "cell_type": "code",
   "execution_count": 7,
   "metadata": {
    "collapsed": false
   },
   "outputs": [
    {
     "data": {
      "text/plain": [
       "https://www.google.com.br/                                                                                                                                                                         6282\n",
       "\\N                                                                                                                                                                                                 4264\n",
       "http://advogadoonline.jusbrasil.com.br/artigos/195608727/advogado-online                                                                                                                           3127\n",
       "http://jucineiaprussak.jusbrasil.com.br/noticias/299931265/mudancas-na-lei-a-pensao-alimenticia-ficara-mais-rigorosa-a-partir-de-marco                                                             1034\n",
       "http://www.jusbrasil.com.br/                                                                                                                                                                        865\n",
       "http://www.jusbrasil.com.br/advogados/?ref=navbar                                                                                                                                                   821\n",
       "https://www.google.com.br                                                                                                                                                                           591\n",
       "android-app://com.google.android.googlequicksearchbox                                                                                                                                               405\n",
       "http://rmonjardim.jusbrasil.com.br/artigos/183315550/motivos-para-rescisao-indireta-do-contrato-de-trabalho                                                                                         355\n",
       "http://www.jusbrasil.com.br/modelos-pecas/?ref=navbar                                                                                                                                               328\n",
       "http://www.jusbrasil.com.br/advogados/direito-do-trabalho-sp-sao-paulo/                                                                                                                             299\n",
       "http://fmvadvogado.jusbrasil.com.br/artigos/114091139/prazo-para-empresa-fazer-o-acerto-das-verbas-rescisorias                                                                                      299\n",
       "http://jusbrasil.jusbrasil.com.br/artigos/153695125/o-que-e-um-caso-juridico                                                                                                                        233\n",
       "http://jusbrasil.jusbrasil.com.br/artigos/111827254/termos-de-uso-programa-jusbrasil-pro                                                                                                            229\n",
       "http://www.jusbrasil.com.br/jurisprudencia/?ref=navbar                                                                                                                                              224\n",
       "http://alestrazzi.jusbrasil.com.br/artigos/112313360/separacao-e-divorcio-duvidas-e-procedimento                                                                                                    217\n",
       "http://www.jusbrasil.com.br/home                                                                                                                                                                    217\n",
       "http://bernardocesarcoura.jusbrasil.com.br/noticias/163751150/multa-por-quebra-de-contrato-de-locacao-de-imoveis                                                                                    201\n",
       "http://danipsmenezes.jusbrasil.com.br/artigos/174817095/pensao-alimenticia-e-a-lenda-urbana-dos-30                                                                                                  189\n",
       "http://www.jusbrasil.com.br/advogados/direito-do-trabalho-rj-rio-de-janeiro/                                                                                                                        182\n",
       "http://nelcisgomes.jusbrasil.com.br/noticias/160206070/guia-do-divorcio-especialistas-respondem-principais-duvidas                                                                                  174\n",
       "http://www.jusbrasil.com.br/advogados/direito-civil-sp-sao-paulo/                                                                                                                                   172\n",
       "http://www.jusbrasil.com.br/advogados/mg-belo-horizonte/                                                                                                                                            170\n",
       "http://osadvogacidos.jusbrasil.com.br/artigos/348599844/meu-advogado-sumiu-sem-resolver-meu-problema-e-agora?utm_campaign=newsletter-daily_20160613_3529&utm_medium=email&utm_source=newsletter     166\n",
       "http://ximenesce.jusbrasil.com.br/artigos/160835562/atraso-na-homologacao-gera-multa                                                                                                                164\n",
       "http://advogado-correspondente.jusbrasil.com.br/rj-rio-de-janeiro/                                                                                                                                  158\n",
       "http://www.jusbrasil.com.br/advogados/direito-do-consumidor-rj-rio-de-janeiro/                                                                                                                      154\n",
       "http://www.jusbrasil.com.br/advogados/home                                                                                                                                                          146\n",
       "http://advocaciafamilia.jusbrasil.com.br/artigos/114153889/exoneracao-da-pensao-alimenticia-paga-ao-filho-maior-de-idade                                                                            144\n",
       "http://vaesmarcelo.jusbrasil.com.br/artigos/192016427/aprenda-passo-a-passo-como-montar-sua-defesa-ou-recurso-de-multa-de-transito                                                                  142\n",
       "                                                                                                                                                                                                   ... \n",
       "http://probusjus.jusbrasil.com.br/artigos/348476625/como-converter-multa-de-transito-em-advertencia                                                                                                   1\n",
       "http://sindjufe-go.jusbrasil.com.br/noticias/100639807/servidor-conheca-os-seus-direitos-sobre-licenca-premio                                                                                         1\n",
       "http://expresso-noticia.jusbrasil.com.br/noticias/952859/ipesp-devera-reajustar-beneficios-de-advogados-aposentados-pelo-salario-minimo                                                               1\n",
       "http://tj-rs.jusbrasil.com.br/jurisprudencia/113369106/apelacao-civel-ac-70055233332-rs                                                                                                               1\n",
       "http://www.jusbrasil.com.br/jurisprudencia/busca?q=RECONHECIMENTO+DE+PATERNIDADE+POSTERIOR+AO+%C3%93BITO                                                                                              1\n",
       "http://cd.jusbrasil.com.br/noticias/2128831/seguridade-aprova-licenca-maior-para-mae-de-gemeos-ou-prematuros                                                                                          1\n",
       "http://www.jusbrasil.com.br/busca?q=USUCAPI%C3%83O+ENTRE+PARENTES&c=                                                                                                                                  1\n",
       "http://www.jusbrasil.com.br/topicos/102494714/jesse-campos-dos-santos                                                                                                                                 1\n",
       "http://www.jusbrasil.com.br/jurisprudencia/busca?q=DOEN%C3%87A+ADQUIRIDA+NO+AMBIENTE+DE+TRABALHO                                                                                                      1\n",
       "http://www.jusbrasil.com.br/jurisprudencia/busca?q=REAJUSTE+SEM+COMUNICA%C3%87%C3%83O+PR%C3%89VIA                                                                                                     1\n",
       "http://www.jusbrasil.com.br/topicos/10724345/artigo-162-da-lei-n-5869-de-11-de-janeiro-de-1973                                                                                                        1\n",
       "http://tj-pr.jusbrasil.com.br/jurisprudencia/22061075/8478082-pr-847808-2-acordao-tjpr/inteiro-teor-22061076                                                                                          1\n",
       "http://www.jusbrasil.com.br/advogados/vacancia-do-servidor-publico-pr-santa-tereza-do-oeste/                                                                                                          1\n",
       "http://www.jusbrasil.com.br/diarios/53551649/djgo-secao-iii-25-04-2013-pg-1224                                                                                                                        1\n",
       "http://www.jusbrasil.com.br/diarios/84180012/djro-23-01-2015-pg-769                                                                                                                                   1\n",
       "http://www.jusbrasil.com.br/advogados/direito-militar-ce-caucaia/                                                                                                                                     1\n",
       "http://www.jusbrasil.com.br/topicos/105237855/habia-dos-santos-espindola-55149-rs                                                                                                                     1\n",
       "http://www.jusbrasil.com.br/diarios/13022784/pg-136-tribunal-superior-do-trabalho-tst-de-19-11-2009                                                                                                   1\n",
       "http://www.jusbrasil.com.br/topicos/10619014/artigo-121-da-constituicao-federal-de-16-de-julho-de-1934                                                                                                1\n",
       "http://www.jusbrasil.com.br/topicos/10866813/artigo-37-da-lei-n-11343-de-23-de-agosto-de-2006                                                                                                         1\n",
       "http://www.jusbrasil.com.br/diarios/documentos/322465050/andamento-do-processo-n-0006161-5220154036120-08-04-2016-do-trf-3?ref=topic_feed                                                             1\n",
       "http://www.jusbrasil.com.br/topicos/10597635/artigo-67-da-lei-n-8078-de-11-de-setembro-de-1990                                                                                                        1\n",
       "http://www.jusbrasil.com.br/jurisprudencia/busca?q=Utiliza%C3%A7%C3%A3o+do+FGTS+para+pagar+presta%C3%A7%C3%B5es+em+atraso                                                                             1\n",
       "http://www.jusbrasil.com.br/jurisprudencia/busca?q=Direito+%C3%A0+licen%C3%A7a+maternidade+e+%C3%A0+estabilidade+provis%C3%B3ria&p=5                                                                  1\n",
       "http://www.jusbrasil.com.br/topicos/97653892/processo-n-00739162920158130382-do-tjmg                                                                                                                  1\n",
       "http://www.jusbrasil.com.br/topicos/45493300/ivo-goncalves-dias                                                                                                                                       1\n",
       "http://www.jusbrasil.com.br/topicos/29367501/embratel-tvsat-telecomunicacoes-s-a-claro                                                                                                                1\n",
       "http://www.jusbrasil.com.br/topicos/10603148/artigo-37-da-lei-n-8078-de-11-de-setembro-de-1990/atualizacoes                                                                                           1\n",
       "http://www.jusbrasil.com.br/topicos/27286196/2-vara-da-comarca-de-iguape                                                                                                                              1\n",
       "http://presrepublica.jusbrasil.com.br/legislacao/103866/lei-de-licitacoes-lei-8666-93                                                                                                                 1\n",
       "Name: referrer, dtype: int64"
      ]
     },
     "execution_count": 7,
     "metadata": {},
     "output_type": "execute_result"
    }
   ],
   "source": [
    "df.referrer.value_counts()"
   ]
  },
  {
   "cell_type": "code",
   "execution_count": 10,
   "metadata": {
    "collapsed": false
   },
   "outputs": [
    {
     "data": {
      "text/plain": [
       "8299"
      ]
     },
     "execution_count": 10,
     "metadata": {},
     "output_type": "execute_result"
    }
   ],
   "source": [
    "df[df.is_hot_case == 1]['hiring_intent'].sum()"
   ]
  },
  {
   "cell_type": "code",
   "execution_count": 11,
   "metadata": {
    "collapsed": false
   },
   "outputs": [
    {
     "data": {
      "text/plain": [
       "10124"
      ]
     },
     "execution_count": 11,
     "metadata": {},
     "output_type": "execute_result"
    }
   ],
   "source": [
    "df[df.is_hot_case != 1]['hiring_intent'].sum()"
   ]
  },
  {
   "cell_type": "code",
   "execution_count": 12,
   "metadata": {
    "collapsed": false
   },
   "outputs": [
    {
     "data": {
      "text/plain": [
       "array([26413205, 26413223, 26413213,   355654, 26413200,   292125,\n",
       "       26413229, 26413232, 26413192,   735233, 26413052, 26413240,\n",
       "       26413224, 26413220, 26413216, 26413387, 26413218, 26413196])"
      ]
     },
     "execution_count": 12,
     "metadata": {},
     "output_type": "execute_result"
    }
   ],
   "source": [
    "df.expertise.unique()"
   ]
  },
  {
   "cell_type": "code",
   "execution_count": null,
   "metadata": {
    "collapsed": true
   },
   "outputs": [],
   "source": []
  },
  {
   "cell_type": "code",
   "execution_count": 18,
   "metadata": {
    "collapsed": false
   },
   "outputs": [],
   "source": [
    "scores = df[score_cols]"
   ]
  },
  {
   "cell_type": "code",
   "execution_count": 21,
   "metadata": {
    "collapsed": false
   },
   "outputs": [
    {
     "data": {
      "text/plain": [
       "array([[<matplotlib.axes._subplots.AxesSubplot object at 0x12c61bc50>,\n",
       "        <matplotlib.axes._subplots.AxesSubplot object at 0x12c6ad0d0>,\n",
       "        <matplotlib.axes._subplots.AxesSubplot object at 0x12c72a190>,\n",
       "        <matplotlib.axes._subplots.AxesSubplot object at 0x12c778c90>,\n",
       "        <matplotlib.axes._subplots.AxesSubplot object at 0x12c7f7cd0>,\n",
       "        <matplotlib.axes._subplots.AxesSubplot object at 0x12d0508d0>],\n",
       "       [<matplotlib.axes._subplots.AxesSubplot object at 0x12d0dea90>,\n",
       "        <matplotlib.axes._subplots.AxesSubplot object at 0x12d260910>,\n",
       "        <matplotlib.axes._subplots.AxesSubplot object at 0x12d2cf8d0>,\n",
       "        <matplotlib.axes._subplots.AxesSubplot object at 0x12d452750>,\n",
       "        <matplotlib.axes._subplots.AxesSubplot object at 0x12d4b8690>,\n",
       "        <matplotlib.axes._subplots.AxesSubplot object at 0x12d53c510>],\n",
       "       [<matplotlib.axes._subplots.AxesSubplot object at 0x12d4d0090>,\n",
       "        <matplotlib.axes._subplots.AxesSubplot object at 0x12d72d3d0>,\n",
       "        <matplotlib.axes._subplots.AxesSubplot object at 0x12d7b1250>,\n",
       "        <matplotlib.axes._subplots.AxesSubplot object at 0x12d811bd0>,\n",
       "        <matplotlib.axes._subplots.AxesSubplot object at 0x12d896a50>,\n",
       "        <matplotlib.axes._subplots.AxesSubplot object at 0x12d8faa90>],\n",
       "       [<matplotlib.axes._subplots.AxesSubplot object at 0x12da7ca10>,\n",
       "        <matplotlib.axes._subplots.AxesSubplot object at 0x12da8be90>,\n",
       "        <matplotlib.axes._subplots.AxesSubplot object at 0x12db6f890>,\n",
       "        <matplotlib.axes._subplots.AxesSubplot object at 0x12dbf1710>,\n",
       "        <matplotlib.axes._subplots.AxesSubplot object at 0x12dc57850>,\n",
       "        <matplotlib.axes._subplots.AxesSubplot object at 0x12dcd96d0>],\n",
       "       [<matplotlib.axes._subplots.AxesSubplot object at 0x12dd403d0>,\n",
       "        <matplotlib.axes._subplots.AxesSubplot object at 0x12ddcb4d0>,\n",
       "        <matplotlib.axes._subplots.AxesSubplot object at 0x12de50350>,\n",
       "        <matplotlib.axes._subplots.AxesSubplot object at 0x12deafd90>,\n",
       "        <matplotlib.axes._subplots.AxesSubplot object at 0x12e135c10>,\n",
       "        <matplotlib.axes._subplots.AxesSubplot object at 0x12e19ac50>],\n",
       "       [<matplotlib.axes._subplots.AxesSubplot object at 0x12e31dbd0>,\n",
       "        <matplotlib.axes._subplots.AxesSubplot object at 0x12e32bb50>,\n",
       "        <matplotlib.axes._subplots.AxesSubplot object at 0x12e40f990>,\n",
       "        <matplotlib.axes._subplots.AxesSubplot object at 0x12e493810>,\n",
       "        <matplotlib.axes._subplots.AxesSubplot object at 0x12e4f6ad0>,\n",
       "        <matplotlib.axes._subplots.AxesSubplot object at 0x12e679950>]], dtype=object)"
      ]
     },
     "execution_count": 21,
     "metadata": {},
     "output_type": "execute_result"
    },
    {
     "data": {
      "image/png": "[encoded data removed]",
      "text/plain": [
       "<matplotlib.figure.Figure at 0x12c583510>"
      ]
     },
     "metadata": {},
     "output_type": "display_data"
    }
   ],
   "source": [
    "pd.scatter_matrix(scores, diagonal='kde', alpha=0.3, figsize=(12, 12))"
   ]
  },
  {
   "cell_type": "code",
   "execution_count": 28,
   "metadata": {
    "collapsed": false
   },
   "outputs": [
    {
     "data": {
      "text/plain": [
       "24679"
      ]
     },
     "execution_count": 28,
     "metadata": {},
     "output_type": "execute_result"
    }
   ],
   "source": [
    "df[df.is_hot_case == 1]['phone_visualized'].count()"
   ]
  },
  {
   "cell_type": "code",
   "execution_count": 26,
   "metadata": {
    "collapsed": false
   },
   "outputs": [
    {
     "data": {
      "text/plain": [
       "3510"
      ]
     },
     "execution_count": 26,
     "metadata": {},
     "output_type": "execute_result"
    }
   ],
   "source": [
    "df[df.hot_lead_spent == 1]['hiring_intent'].count()"
   ]
  },
  {
   "cell_type": "code",
   "execution_count": 30,
   "metadata": {
    "collapsed": false
   },
   "outputs": [
    {
     "data": {
      "text/plain": [
       "0    96288\n",
       "1     3510\n",
       "Name: hot_lead_spent, dtype: int64"
      ]
     },
     "execution_count": 30,
     "metadata": {},
     "output_type": "execute_result"
    }
   ],
   "source": [
    "df.hot_lead_spent.value_counts()"
   ]
  },
  {
   "cell_type": "code",
   "execution_count": 31,
   "metadata": {
    "collapsed": false
   },
   "outputs": [
    {
     "data": {
      "text/plain": [
       "0    75119\n",
       "1    24679\n",
       "Name: is_hot_case, dtype: int64"
      ]
     },
     "execution_count": 31,
     "metadata": {},
     "output_type": "execute_result"
    }
   ],
   "source": [
    "df.is_hot_case.value_counts()"
   ]
  },
  {
   "cell_type": "code",
   "execution_count": 36,
   "metadata": {
    "collapsed": false
   },
   "outputs": [
    {
     "name": "stdout",
     "output_type": "stream",
     "text": [
      "0    75119\n",
      "1    24679\n",
      "Name: is_hot_case, dtype: int64\n",
      "\n",
      "\n",
      "0    96288\n",
      "1     3510\n",
      "Name: hot_lead_spent, dtype: int64\n",
      "\n",
      "\n",
      "0    71214\n",
      "1    28584\n",
      "Name: text_message_sent, dtype: int64\n",
      "\n",
      "\n",
      "0    88809\n",
      "1    10989\n",
      "Name: phone_visualized, dtype: int64\n",
      "\n",
      "\n",
      "0    81375\n",
      "1    18423\n",
      "Name: hiring_intent, dtype: int64\n",
      "\n",
      "\n",
      "1    52673\n",
      "0    47125\n",
      "Name: can_afford, dtype: int64\n",
      "\n",
      "\n"
     ]
    }
   ],
   "source": [
    "for col in score_cols:\n",
    "#     print col\n",
    "    print df[col].value_counts()\n",
    "    print '\\n'"
   ]
  },
  {
   "cell_type": "code",
   "execution_count": null,
   "metadata": {
    "collapsed": true
   },
   "outputs": [],
   "source": []
  },
  {
   "cell_type": "code",
   "execution_count": 50,
   "metadata": {
    "collapsed": false
   },
   "outputs": [
    {
     "data": {
      "text/plain": [
       "0.2783448275862069"
      ]
     },
     "execution_count": 50,
     "metadata": {},
     "output_type": "execute_result"
    }
   ],
   "source": [
    "# If they can't afford, what percentage of lawyers send messages?\n",
    "df[df.can_afford == 0]['text_message_sent'].sum() / float(df[df.can_afford == 0]['text_message_sent'].count())"
   ]
  },
  {
   "cell_type": "code",
   "execution_count": 51,
   "metadata": {
    "collapsed": false
   },
   "outputs": [
    {
     "data": {
      "text/plain": [
       "0.2936419038216923"
      ]
     },
     "execution_count": 51,
     "metadata": {},
     "output_type": "execute_result"
    }
   ],
   "source": [
    "# If they can afford, what percentage of lawyers send messages?\n",
    "df[df.can_afford == 1]['text_message_sent'].sum() / float(df[df.can_afford == 1]['text_message_sent'].count())"
   ]
  },
  {
   "cell_type": "code",
   "execution_count": 48,
   "metadata": {
    "collapsed": false
   },
   "outputs": [
    {
     "data": {
      "text/plain": [
       "0.28188018433179723"
      ]
     },
     "execution_count": 48,
     "metadata": {},
     "output_type": "execute_result"
    }
   ],
   "source": [
    "# If they have no intention of hiring, what percentage of lawyers send messages?\n",
    "df[df.hiring_intent == 0]['text_message_sent'].sum() / float(df[df.hiring_intent == 0]['text_message_sent'].count())"
   ]
  },
  {
   "cell_type": "code",
   "execution_count": 49,
   "metadata": {
    "collapsed": false
   },
   "outputs": [
    {
     "data": {
      "text/plain": [
       "0.30646474515551214"
      ]
     },
     "execution_count": 49,
     "metadata": {},
     "output_type": "execute_result"
    }
   ],
   "source": [
    "# If they have intention of hiring, what percentage of lawyers send messages?\n",
    "df[df.hiring_intent == 1]['text_message_sent'].sum() / float(df[df.hiring_intent == 1]['text_message_sent'].count())"
   ]
  },
  {
   "cell_type": "code",
   "execution_count": 52,
   "metadata": {
    "collapsed": false
   },
   "outputs": [
    {
     "data": {
      "text/plain": [
       "Index([u'is_hot_case', u'hot_lead_spent', u'text_message_sent',\n",
       "       u'phone_visualized', u'hiring_intent', u'can_afford'],\n",
       "      dtype='object')"
      ]
     },
     "execution_count": 52,
     "metadata": {},
     "output_type": "execute_result"
    }
   ],
   "source": [
    "scores.columns"
   ]
  },
  {
   "cell_type": "code",
   "execution_count": 56,
   "metadata": {
    "collapsed": false,
    "scrolled": true
   },
   "outputs": [
    {
     "data": {
      "text/html": [
       "<div>\n",
       "<table border=\"1\" class=\"dataframe\">\n",
       "  <thead>\n",
       "    <tr style=\"text-align: right;\">\n",
       "      <th></th>\n",
       "      <th>is_hot_case</th>\n",
       "      <th>hot_lead_spent</th>\n",
       "      <th>text_message_sent</th>\n",
       "      <th>phone_visualized</th>\n",
       "      <th>hiring_intent</th>\n",
       "      <th>can_afford</th>\n",
       "    </tr>\n",
       "  </thead>\n",
       "  <tbody>\n",
       "    <tr>\n",
       "      <th>56</th>\n",
       "      <td>0</td>\n",
       "      <td>0</td>\n",
       "      <td>1</td>\n",
       "      <td>1</td>\n",
       "      <td>0</td>\n",
       "      <td>0</td>\n",
       "    </tr>\n",
       "    <tr>\n",
       "      <th>90</th>\n",
       "      <td>0</td>\n",
       "      <td>0</td>\n",
       "      <td>1</td>\n",
       "      <td>1</td>\n",
       "      <td>0</td>\n",
       "      <td>0</td>\n",
       "    </tr>\n",
       "    <tr>\n",
       "      <th>121</th>\n",
       "      <td>0</td>\n",
       "      <td>0</td>\n",
       "      <td>1</td>\n",
       "      <td>1</td>\n",
       "      <td>0</td>\n",
       "      <td>0</td>\n",
       "    </tr>\n",
       "    <tr>\n",
       "      <th>141</th>\n",
       "      <td>0</td>\n",
       "      <td>0</td>\n",
       "      <td>1</td>\n",
       "      <td>1</td>\n",
       "      <td>0</td>\n",
       "      <td>0</td>\n",
       "    </tr>\n",
       "    <tr>\n",
       "      <th>211</th>\n",
       "      <td>0</td>\n",
       "      <td>0</td>\n",
       "      <td>1</td>\n",
       "      <td>1</td>\n",
       "      <td>0</td>\n",
       "      <td>1</td>\n",
       "    </tr>\n",
       "    <tr>\n",
       "      <th>240</th>\n",
       "      <td>0</td>\n",
       "      <td>0</td>\n",
       "      <td>1</td>\n",
       "      <td>1</td>\n",
       "      <td>0</td>\n",
       "      <td>0</td>\n",
       "    </tr>\n",
       "    <tr>\n",
       "      <th>342</th>\n",
       "      <td>0</td>\n",
       "      <td>0</td>\n",
       "      <td>1</td>\n",
       "      <td>1</td>\n",
       "      <td>0</td>\n",
       "      <td>1</td>\n",
       "    </tr>\n",
       "    <tr>\n",
       "      <th>345</th>\n",
       "      <td>0</td>\n",
       "      <td>0</td>\n",
       "      <td>1</td>\n",
       "      <td>1</td>\n",
       "      <td>0</td>\n",
       "      <td>0</td>\n",
       "    </tr>\n",
       "    <tr>\n",
       "      <th>362</th>\n",
       "      <td>0</td>\n",
       "      <td>0</td>\n",
       "      <td>1</td>\n",
       "      <td>1</td>\n",
       "      <td>1</td>\n",
       "      <td>1</td>\n",
       "    </tr>\n",
       "    <tr>\n",
       "      <th>366</th>\n",
       "      <td>0</td>\n",
       "      <td>0</td>\n",
       "      <td>1</td>\n",
       "      <td>1</td>\n",
       "      <td>1</td>\n",
       "      <td>1</td>\n",
       "    </tr>\n",
       "    <tr>\n",
       "      <th>392</th>\n",
       "      <td>0</td>\n",
       "      <td>0</td>\n",
       "      <td>1</td>\n",
       "      <td>1</td>\n",
       "      <td>1</td>\n",
       "      <td>1</td>\n",
       "    </tr>\n",
       "    <tr>\n",
       "      <th>393</th>\n",
       "      <td>0</td>\n",
       "      <td>0</td>\n",
       "      <td>1</td>\n",
       "      <td>1</td>\n",
       "      <td>1</td>\n",
       "      <td>1</td>\n",
       "    </tr>\n",
       "    <tr>\n",
       "      <th>412</th>\n",
       "      <td>1</td>\n",
       "      <td>1</td>\n",
       "      <td>1</td>\n",
       "      <td>1</td>\n",
       "      <td>0</td>\n",
       "      <td>1</td>\n",
       "    </tr>\n",
       "    <tr>\n",
       "      <th>443</th>\n",
       "      <td>1</td>\n",
       "      <td>1</td>\n",
       "      <td>1</td>\n",
       "      <td>1</td>\n",
       "      <td>1</td>\n",
       "      <td>1</td>\n",
       "    </tr>\n",
       "    <tr>\n",
       "      <th>460</th>\n",
       "      <td>1</td>\n",
       "      <td>1</td>\n",
       "      <td>1</td>\n",
       "      <td>1</td>\n",
       "      <td>0</td>\n",
       "      <td>0</td>\n",
       "    </tr>\n",
       "    <tr>\n",
       "      <th>471</th>\n",
       "      <td>0</td>\n",
       "      <td>0</td>\n",
       "      <td>1</td>\n",
       "      <td>1</td>\n",
       "      <td>0</td>\n",
       "      <td>1</td>\n",
       "    </tr>\n",
       "    <tr>\n",
       "      <th>473</th>\n",
       "      <td>0</td>\n",
       "      <td>0</td>\n",
       "      <td>1</td>\n",
       "      <td>1</td>\n",
       "      <td>0</td>\n",
       "      <td>1</td>\n",
       "    </tr>\n",
       "    <tr>\n",
       "      <th>512</th>\n",
       "      <td>0</td>\n",
       "      <td>0</td>\n",
       "      <td>1</td>\n",
       "      <td>1</td>\n",
       "      <td>0</td>\n",
       "      <td>0</td>\n",
       "    </tr>\n",
       "    <tr>\n",
       "      <th>545</th>\n",
       "      <td>0</td>\n",
       "      <td>0</td>\n",
       "      <td>1</td>\n",
       "      <td>1</td>\n",
       "      <td>0</td>\n",
       "      <td>0</td>\n",
       "    </tr>\n",
       "    <tr>\n",
       "      <th>546</th>\n",
       "      <td>0</td>\n",
       "      <td>0</td>\n",
       "      <td>1</td>\n",
       "      <td>1</td>\n",
       "      <td>0</td>\n",
       "      <td>0</td>\n",
       "    </tr>\n",
       "    <tr>\n",
       "      <th>556</th>\n",
       "      <td>0</td>\n",
       "      <td>0</td>\n",
       "      <td>1</td>\n",
       "      <td>1</td>\n",
       "      <td>0</td>\n",
       "      <td>0</td>\n",
       "    </tr>\n",
       "    <tr>\n",
       "      <th>570</th>\n",
       "      <td>0</td>\n",
       "      <td>0</td>\n",
       "      <td>1</td>\n",
       "      <td>1</td>\n",
       "      <td>0</td>\n",
       "      <td>0</td>\n",
       "    </tr>\n",
       "    <tr>\n",
       "      <th>635</th>\n",
       "      <td>0</td>\n",
       "      <td>0</td>\n",
       "      <td>1</td>\n",
       "      <td>1</td>\n",
       "      <td>0</td>\n",
       "      <td>1</td>\n",
       "    </tr>\n",
       "    <tr>\n",
       "      <th>663</th>\n",
       "      <td>1</td>\n",
       "      <td>1</td>\n",
       "      <td>1</td>\n",
       "      <td>1</td>\n",
       "      <td>0</td>\n",
       "      <td>1</td>\n",
       "    </tr>\n",
       "    <tr>\n",
       "      <th>688</th>\n",
       "      <td>0</td>\n",
       "      <td>0</td>\n",
       "      <td>1</td>\n",
       "      <td>1</td>\n",
       "      <td>0</td>\n",
       "      <td>1</td>\n",
       "    </tr>\n",
       "    <tr>\n",
       "      <th>701</th>\n",
       "      <td>0</td>\n",
       "      <td>0</td>\n",
       "      <td>1</td>\n",
       "      <td>1</td>\n",
       "      <td>0</td>\n",
       "      <td>1</td>\n",
       "    </tr>\n",
       "    <tr>\n",
       "      <th>708</th>\n",
       "      <td>0</td>\n",
       "      <td>0</td>\n",
       "      <td>1</td>\n",
       "      <td>1</td>\n",
       "      <td>0</td>\n",
       "      <td>1</td>\n",
       "    </tr>\n",
       "    <tr>\n",
       "      <th>751</th>\n",
       "      <td>0</td>\n",
       "      <td>0</td>\n",
       "      <td>1</td>\n",
       "      <td>1</td>\n",
       "      <td>0</td>\n",
       "      <td>0</td>\n",
       "    </tr>\n",
       "    <tr>\n",
       "      <th>826</th>\n",
       "      <td>0</td>\n",
       "      <td>0</td>\n",
       "      <td>1</td>\n",
       "      <td>1</td>\n",
       "      <td>0</td>\n",
       "      <td>0</td>\n",
       "    </tr>\n",
       "    <tr>\n",
       "      <th>873</th>\n",
       "      <td>0</td>\n",
       "      <td>0</td>\n",
       "      <td>1</td>\n",
       "      <td>1</td>\n",
       "      <td>0</td>\n",
       "      <td>1</td>\n",
       "    </tr>\n",
       "    <tr>\n",
       "      <th>...</th>\n",
       "      <td>...</td>\n",
       "      <td>...</td>\n",
       "      <td>...</td>\n",
       "      <td>...</td>\n",
       "      <td>...</td>\n",
       "      <td>...</td>\n",
       "    </tr>\n",
       "    <tr>\n",
       "      <th>98588</th>\n",
       "      <td>0</td>\n",
       "      <td>0</td>\n",
       "      <td>1</td>\n",
       "      <td>1</td>\n",
       "      <td>1</td>\n",
       "      <td>1</td>\n",
       "    </tr>\n",
       "    <tr>\n",
       "      <th>98614</th>\n",
       "      <td>0</td>\n",
       "      <td>0</td>\n",
       "      <td>1</td>\n",
       "      <td>1</td>\n",
       "      <td>0</td>\n",
       "      <td>0</td>\n",
       "    </tr>\n",
       "    <tr>\n",
       "      <th>98634</th>\n",
       "      <td>0</td>\n",
       "      <td>0</td>\n",
       "      <td>1</td>\n",
       "      <td>1</td>\n",
       "      <td>1</td>\n",
       "      <td>1</td>\n",
       "    </tr>\n",
       "    <tr>\n",
       "      <th>98643</th>\n",
       "      <td>0</td>\n",
       "      <td>0</td>\n",
       "      <td>1</td>\n",
       "      <td>1</td>\n",
       "      <td>1</td>\n",
       "      <td>1</td>\n",
       "    </tr>\n",
       "    <tr>\n",
       "      <th>98678</th>\n",
       "      <td>0</td>\n",
       "      <td>0</td>\n",
       "      <td>1</td>\n",
       "      <td>1</td>\n",
       "      <td>1</td>\n",
       "      <td>1</td>\n",
       "    </tr>\n",
       "    <tr>\n",
       "      <th>98681</th>\n",
       "      <td>0</td>\n",
       "      <td>0</td>\n",
       "      <td>1</td>\n",
       "      <td>1</td>\n",
       "      <td>1</td>\n",
       "      <td>1</td>\n",
       "    </tr>\n",
       "    <tr>\n",
       "      <th>98704</th>\n",
       "      <td>0</td>\n",
       "      <td>0</td>\n",
       "      <td>1</td>\n",
       "      <td>1</td>\n",
       "      <td>1</td>\n",
       "      <td>1</td>\n",
       "    </tr>\n",
       "    <tr>\n",
       "      <th>98736</th>\n",
       "      <td>0</td>\n",
       "      <td>0</td>\n",
       "      <td>1</td>\n",
       "      <td>1</td>\n",
       "      <td>0</td>\n",
       "      <td>0</td>\n",
       "    </tr>\n",
       "    <tr>\n",
       "      <th>98837</th>\n",
       "      <td>0</td>\n",
       "      <td>0</td>\n",
       "      <td>1</td>\n",
       "      <td>1</td>\n",
       "      <td>0</td>\n",
       "      <td>0</td>\n",
       "    </tr>\n",
       "    <tr>\n",
       "      <th>98922</th>\n",
       "      <td>0</td>\n",
       "      <td>0</td>\n",
       "      <td>1</td>\n",
       "      <td>1</td>\n",
       "      <td>1</td>\n",
       "      <td>1</td>\n",
       "    </tr>\n",
       "    <tr>\n",
       "      <th>99000</th>\n",
       "      <td>1</td>\n",
       "      <td>0</td>\n",
       "      <td>1</td>\n",
       "      <td>1</td>\n",
       "      <td>1</td>\n",
       "      <td>1</td>\n",
       "    </tr>\n",
       "    <tr>\n",
       "      <th>99041</th>\n",
       "      <td>1</td>\n",
       "      <td>0</td>\n",
       "      <td>1</td>\n",
       "      <td>1</td>\n",
       "      <td>0</td>\n",
       "      <td>0</td>\n",
       "    </tr>\n",
       "    <tr>\n",
       "      <th>99043</th>\n",
       "      <td>1</td>\n",
       "      <td>0</td>\n",
       "      <td>1</td>\n",
       "      <td>1</td>\n",
       "      <td>0</td>\n",
       "      <td>0</td>\n",
       "    </tr>\n",
       "    <tr>\n",
       "      <th>99051</th>\n",
       "      <td>1</td>\n",
       "      <td>0</td>\n",
       "      <td>1</td>\n",
       "      <td>1</td>\n",
       "      <td>0</td>\n",
       "      <td>0</td>\n",
       "    </tr>\n",
       "    <tr>\n",
       "      <th>99122</th>\n",
       "      <td>1</td>\n",
       "      <td>1</td>\n",
       "      <td>1</td>\n",
       "      <td>1</td>\n",
       "      <td>0</td>\n",
       "      <td>1</td>\n",
       "    </tr>\n",
       "    <tr>\n",
       "      <th>99152</th>\n",
       "      <td>0</td>\n",
       "      <td>0</td>\n",
       "      <td>1</td>\n",
       "      <td>1</td>\n",
       "      <td>0</td>\n",
       "      <td>0</td>\n",
       "    </tr>\n",
       "    <tr>\n",
       "      <th>99159</th>\n",
       "      <td>0</td>\n",
       "      <td>0</td>\n",
       "      <td>1</td>\n",
       "      <td>1</td>\n",
       "      <td>0</td>\n",
       "      <td>0</td>\n",
       "    </tr>\n",
       "    <tr>\n",
       "      <th>99183</th>\n",
       "      <td>0</td>\n",
       "      <td>0</td>\n",
       "      <td>1</td>\n",
       "      <td>1</td>\n",
       "      <td>0</td>\n",
       "      <td>0</td>\n",
       "    </tr>\n",
       "    <tr>\n",
       "      <th>99190</th>\n",
       "      <td>0</td>\n",
       "      <td>0</td>\n",
       "      <td>1</td>\n",
       "      <td>1</td>\n",
       "      <td>1</td>\n",
       "      <td>1</td>\n",
       "    </tr>\n",
       "    <tr>\n",
       "      <th>99312</th>\n",
       "      <td>0</td>\n",
       "      <td>0</td>\n",
       "      <td>1</td>\n",
       "      <td>1</td>\n",
       "      <td>0</td>\n",
       "      <td>0</td>\n",
       "    </tr>\n",
       "    <tr>\n",
       "      <th>99334</th>\n",
       "      <td>0</td>\n",
       "      <td>0</td>\n",
       "      <td>1</td>\n",
       "      <td>1</td>\n",
       "      <td>0</td>\n",
       "      <td>0</td>\n",
       "    </tr>\n",
       "    <tr>\n",
       "      <th>99336</th>\n",
       "      <td>0</td>\n",
       "      <td>0</td>\n",
       "      <td>1</td>\n",
       "      <td>1</td>\n",
       "      <td>0</td>\n",
       "      <td>0</td>\n",
       "    </tr>\n",
       "    <tr>\n",
       "      <th>99338</th>\n",
       "      <td>0</td>\n",
       "      <td>0</td>\n",
       "      <td>1</td>\n",
       "      <td>1</td>\n",
       "      <td>0</td>\n",
       "      <td>0</td>\n",
       "    </tr>\n",
       "    <tr>\n",
       "      <th>99359</th>\n",
       "      <td>0</td>\n",
       "      <td>0</td>\n",
       "      <td>1</td>\n",
       "      <td>1</td>\n",
       "      <td>0</td>\n",
       "      <td>0</td>\n",
       "    </tr>\n",
       "    <tr>\n",
       "      <th>99376</th>\n",
       "      <td>1</td>\n",
       "      <td>0</td>\n",
       "      <td>1</td>\n",
       "      <td>1</td>\n",
       "      <td>1</td>\n",
       "      <td>1</td>\n",
       "    </tr>\n",
       "    <tr>\n",
       "      <th>99694</th>\n",
       "      <td>0</td>\n",
       "      <td>0</td>\n",
       "      <td>1</td>\n",
       "      <td>1</td>\n",
       "      <td>0</td>\n",
       "      <td>1</td>\n",
       "    </tr>\n",
       "    <tr>\n",
       "      <th>99701</th>\n",
       "      <td>0</td>\n",
       "      <td>0</td>\n",
       "      <td>1</td>\n",
       "      <td>1</td>\n",
       "      <td>0</td>\n",
       "      <td>0</td>\n",
       "    </tr>\n",
       "    <tr>\n",
       "      <th>99717</th>\n",
       "      <td>0</td>\n",
       "      <td>0</td>\n",
       "      <td>1</td>\n",
       "      <td>1</td>\n",
       "      <td>0</td>\n",
       "      <td>1</td>\n",
       "    </tr>\n",
       "    <tr>\n",
       "      <th>99751</th>\n",
       "      <td>0</td>\n",
       "      <td>0</td>\n",
       "      <td>1</td>\n",
       "      <td>1</td>\n",
       "      <td>1</td>\n",
       "      <td>1</td>\n",
       "    </tr>\n",
       "    <tr>\n",
       "      <th>99760</th>\n",
       "      <td>0</td>\n",
       "      <td>0</td>\n",
       "      <td>1</td>\n",
       "      <td>1</td>\n",
       "      <td>1</td>\n",
       "      <td>1</td>\n",
       "    </tr>\n",
       "  </tbody>\n",
       "</table>\n",
       "<p>3622 rows × 6 columns</p>\n",
       "</div>"
      ],
      "text/plain": [
       "       is_hot_case  hot_lead_spent  text_message_sent  phone_visualized  \\\n",
       "56               0               0                  1                 1   \n",
       "90               0               0                  1                 1   \n",
       "121              0               0                  1                 1   \n",
       "141              0               0                  1                 1   \n",
       "211              0               0                  1                 1   \n",
       "240              0               0                  1                 1   \n",
       "342              0               0                  1                 1   \n",
       "345              0               0                  1                 1   \n",
       "362              0               0                  1                 1   \n",
       "366              0               0                  1                 1   \n",
       "392              0               0                  1                 1   \n",
       "393              0               0                  1                 1   \n",
       "412              1               1                  1                 1   \n",
       "443              1               1                  1                 1   \n",
       "460              1               1                  1                 1   \n",
       "471              0               0                  1                 1   \n",
       "473              0               0                  1                 1   \n",
       "512              0               0                  1                 1   \n",
       "545              0               0                  1                 1   \n",
       "546              0               0                  1                 1   \n",
       "556              0               0                  1                 1   \n",
       "570              0               0                  1                 1   \n",
       "635              0               0                  1                 1   \n",
       "663              1               1                  1                 1   \n",
       "688              0               0                  1                 1   \n",
       "701              0               0                  1                 1   \n",
       "708              0               0                  1                 1   \n",
       "751              0               0                  1                 1   \n",
       "826              0               0                  1                 1   \n",
       "873              0               0                  1                 1   \n",
       "...            ...             ...                ...               ...   \n",
       "98588            0               0                  1                 1   \n",
       "98614            0               0                  1                 1   \n",
       "98634            0               0                  1                 1   \n",
       "98643            0               0                  1                 1   \n",
       "98678            0               0                  1                 1   \n",
       "98681            0               0                  1                 1   \n",
       "98704            0               0                  1                 1   \n",
       "98736            0               0                  1                 1   \n",
       "98837            0               0                  1                 1   \n",
       "98922            0               0                  1                 1   \n",
       "99000            1               0                  1                 1   \n",
       "99041            1               0                  1                 1   \n",
       "99043            1               0                  1                 1   \n",
       "99051            1               0                  1                 1   \n",
       "99122            1               1                  1                 1   \n",
       "99152            0               0                  1                 1   \n",
       "99159            0               0                  1                 1   \n",
       "99183            0               0                  1                 1   \n",
       "99190            0               0                  1                 1   \n",
       "99312            0               0                  1                 1   \n",
       "99334            0               0                  1                 1   \n",
       "99336            0               0                  1                 1   \n",
       "99338            0               0                  1                 1   \n",
       "99359            0               0                  1                 1   \n",
       "99376            1               0                  1                 1   \n",
       "99694            0               0                  1                 1   \n",
       "99701            0               0                  1                 1   \n",
       "99717            0               0                  1                 1   \n",
       "99751            0               0                  1                 1   \n",
       "99760            0               0                  1                 1   \n",
       "\n",
       "       hiring_intent  can_afford  \n",
       "56                 0           0  \n",
       "90                 0           0  \n",
       "121                0           0  \n",
       "141                0           0  \n",
       "211                0           1  \n",
       "240                0           0  \n",
       "342                0           1  \n",
       "345                0           0  \n",
       "362                1           1  \n",
       "366                1           1  \n",
       "392                1           1  \n",
       "393                1           1  \n",
       "412                0           1  \n",
       "443                1           1  \n",
       "460                0           0  \n",
       "471                0           1  \n",
       "473                0           1  \n",
       "512                0           0  \n",
       "545                0           0  \n",
       "546                0           0  \n",
       "556                0           0  \n",
       "570                0           0  \n",
       "635                0           1  \n",
       "663                0           1  \n",
       "688                0           1  \n",
       "701                0           1  \n",
       "708                0           1  \n",
       "751                0           0  \n",
       "826                0           0  \n",
       "873                0           1  \n",
       "...              ...         ...  \n",
       "98588              1           1  \n",
       "98614              0           0  \n",
       "98634              1           1  \n",
       "98643              1           1  \n",
       "98678              1           1  \n",
       "98681              1           1  \n",
       "98704              1           1  \n",
       "98736              0           0  \n",
       "98837              0           0  \n",
       "98922              1           1  \n",
       "99000              1           1  \n",
       "99041              0           0  \n",
       "99043              0           0  \n",
       "99051              0           0  \n",
       "99122              0           1  \n",
       "99152              0           0  \n",
       "99159              0           0  \n",
       "99183              0           0  \n",
       "99190              1           1  \n",
       "99312              0           0  \n",
       "99334              0           0  \n",
       "99336              0           0  \n",
       "99338              0           0  \n",
       "99359              0           0  \n",
       "99376              1           1  \n",
       "99694              0           1  \n",
       "99701              0           0  \n",
       "99717              0           1  \n",
       "99751              1           1  \n",
       "99760              1           1  \n",
       "\n",
       "[3622 rows x 6 columns]"
      ]
     },
     "execution_count": 56,
     "metadata": {},
     "output_type": "execute_result"
    }
   ],
   "source": [
    "scores[ (scores[\"text_message_sent\"] == 1) & (scores[\"phone_visualized\"] == 1)]"
   ]
  },
  {
   "cell_type": "code",
   "execution_count": null,
   "metadata": {
    "collapsed": true
   },
   "outputs": [],
   "source": []
  },
  {
   "cell_type": "code",
   "execution_count": 114,
   "metadata": {
    "collapsed": false
   },
   "outputs": [
    {
     "name": "stderr",
     "output_type": "stream",
     "text": [
      "/Users/pauloarantes/anaconda/lib/python2.7/site-packages/ipykernel/__main__.py:1: SettingWithCopyWarning: \n",
      "A value is trying to be set on a copy of a slice from a DataFrame.\n",
      "Try using .loc[row_indexer,col_indexer] = value instead\n",
      "\n",
      "See the caveats in the documentation: http://pandas.pydata.org/pandas-docs/stable/indexing.html#indexing-view-versus-copy\n",
      "  if __name__ == '__main__':\n"
     ]
    }
   ],
   "source": [
    "scores['rating'] = 1\n",
    "scores['rating'][scores['phone_visualized'] == 1] = 2\n",
    "scores['rating'][scores['text_message_sent'] == 1] = 3\n",
    "scores['rating'][(scores['text_message_sent'] == 1) & (scores['phone_visualized'] == 1)] = 4\n",
    "scores['rating'][scores['hot_lead_spent'] == 1] = 5"
   ]
  },
  {
   "cell_type": "code",
   "execution_count": 121,
   "metadata": {
    "collapsed": false
   },
   "outputs": [
    {
     "data": {
      "text/html": [
       "<div>\n",
       "<table border=\"1\" class=\"dataframe\">\n",
       "  <thead>\n",
       "    <tr style=\"text-align: right;\">\n",
       "      <th></th>\n",
       "      <th>hot_lead_spent</th>\n",
       "      <th>text_message_sent</th>\n",
       "      <th>phone_visualized</th>\n",
       "      <th>rating</th>\n",
       "    </tr>\n",
       "  </thead>\n",
       "  <tbody>\n",
       "    <tr>\n",
       "      <th>0</th>\n",
       "      <td>1</td>\n",
       "      <td>1</td>\n",
       "      <td>0</td>\n",
       "      <td>5</td>\n",
       "    </tr>\n",
       "    <tr>\n",
       "      <th>1</th>\n",
       "      <td>0</td>\n",
       "      <td>0</td>\n",
       "      <td>0</td>\n",
       "      <td>1</td>\n",
       "    </tr>\n",
       "    <tr>\n",
       "      <th>2</th>\n",
       "      <td>0</td>\n",
       "      <td>0</td>\n",
       "      <td>0</td>\n",
       "      <td>1</td>\n",
       "    </tr>\n",
       "    <tr>\n",
       "      <th>3</th>\n",
       "      <td>1</td>\n",
       "      <td>1</td>\n",
       "      <td>0</td>\n",
       "      <td>5</td>\n",
       "    </tr>\n",
       "    <tr>\n",
       "      <th>4</th>\n",
       "      <td>0</td>\n",
       "      <td>0</td>\n",
       "      <td>0</td>\n",
       "      <td>1</td>\n",
       "    </tr>\n",
       "  </tbody>\n",
       "</table>\n",
       "</div>"
      ],
      "text/plain": [
       "   hot_lead_spent  text_message_sent  phone_visualized  rating\n",
       "0               1                  1                 0       5\n",
       "1               0                  0                 0       1\n",
       "2               0                  0                 0       1\n",
       "3               1                  1                 0       5\n",
       "4               0                  0                 0       1"
      ]
     },
     "execution_count": 121,
     "metadata": {},
     "output_type": "execute_result"
    }
   ],
   "source": [
    "scores.head()"
   ]
  },
  {
   "cell_type": "code",
   "execution_count": 118,
   "metadata": {
    "collapsed": false
   },
   "outputs": [
    {
     "name": "stderr",
     "output_type": "stream",
     "text": [
      "/Users/pauloarantes/anaconda/lib/python2.7/site-packages/ipykernel/__main__.py:1: SettingWithCopyWarning: \n",
      "A value is trying to be set on a copy of a slice from a DataFrame\n",
      "\n",
      "See the caveats in the documentation: http://pandas.pydata.org/pandas-docs/stable/indexing.html#indexing-view-versus-copy\n",
      "  if __name__ == '__main__':\n"
     ]
    }
   ],
   "source": [
    "scores.drop(['txt_phone', 'score'], axis=1, inplace=True)"
   ]
  },
  {
   "cell_type": "code",
   "execution_count": 120,
   "metadata": {
    "collapsed": false
   },
   "outputs": [
    {
     "name": "stderr",
     "output_type": "stream",
     "text": [
      "/Users/pauloarantes/anaconda/lib/python2.7/site-packages/ipykernel/__main__.py:1: SettingWithCopyWarning: \n",
      "A value is trying to be set on a copy of a slice from a DataFrame\n",
      "\n",
      "See the caveats in the documentation: http://pandas.pydata.org/pandas-docs/stable/indexing.html#indexing-view-versus-copy\n",
      "  if __name__ == '__main__':\n"
     ]
    }
   ],
   "source": [
    "scores.drop(['is_hot_case', 'can_afford', 'hiring_intent'], axis=1, inplace=True)"
   ]
  },
  {
   "cell_type": "code",
   "execution_count": null,
   "metadata": {
    "collapsed": true
   },
   "outputs": [],
   "source": [
    "ratings = "
   ]
  },
  {
   "cell_type": "code",
   "execution_count": 122,
   "metadata": {
    "collapsed": false
   },
   "outputs": [
    {
     "data": {
      "text/plain": [
       "Index([u'lawyer_id', u'is_hot_case', u'hot_lead_spent', u'text_message_sent',\n",
       "       u'phone_visualized', u'legal_case_id', u'title', u'expertise',\n",
       "       u'location', u'created_at', u'referrer', u'hiring_intent',\n",
       "       u'can_afford', u'text'],\n",
       "      dtype='object')"
      ]
     },
     "execution_count": 122,
     "metadata": {},
     "output_type": "execute_result"
    }
   ],
   "source": [
    "df.columns"
   ]
  },
  {
   "cell_type": "code",
   "execution_count": 127,
   "metadata": {
    "collapsed": false
   },
   "outputs": [],
   "source": [
    "ratings = pd.concat([df[['lawyer_id', 'legal_case_id']], scores['rating']], axis=1)"
   ]
  },
  {
   "cell_type": "code",
   "execution_count": 129,
   "metadata": {
    "collapsed": false
   },
   "outputs": [
    {
     "data": {
      "text/html": [
       "<div>\n",
       "<table border=\"1\" class=\"dataframe\">\n",
       "  <thead>\n",
       "    <tr style=\"text-align: right;\">\n",
       "      <th></th>\n",
       "      <th>lawyer_id</th>\n",
       "      <th>legal_case_id</th>\n",
       "      <th>rating</th>\n",
       "    </tr>\n",
       "  </thead>\n",
       "  <tbody>\n",
       "    <tr>\n",
       "      <th>0</th>\n",
       "      <td>3744247</td>\n",
       "      <td>783337</td>\n",
       "      <td>5</td>\n",
       "    </tr>\n",
       "    <tr>\n",
       "      <th>1</th>\n",
       "      <td>6088646</td>\n",
       "      <td>783337</td>\n",
       "      <td>1</td>\n",
       "    </tr>\n",
       "    <tr>\n",
       "      <th>2</th>\n",
       "      <td>6358113</td>\n",
       "      <td>783337</td>\n",
       "      <td>1</td>\n",
       "    </tr>\n",
       "    <tr>\n",
       "      <th>3</th>\n",
       "      <td>6427203</td>\n",
       "      <td>783337</td>\n",
       "      <td>5</td>\n",
       "    </tr>\n",
       "    <tr>\n",
       "      <th>4</th>\n",
       "      <td>3702793</td>\n",
       "      <td>783336</td>\n",
       "      <td>1</td>\n",
       "    </tr>\n",
       "    <tr>\n",
       "      <th>5</th>\n",
       "      <td>3757156</td>\n",
       "      <td>783336</td>\n",
       "      <td>1</td>\n",
       "    </tr>\n",
       "    <tr>\n",
       "      <th>6</th>\n",
       "      <td>3802228</td>\n",
       "      <td>783335</td>\n",
       "      <td>3</td>\n",
       "    </tr>\n",
       "    <tr>\n",
       "      <th>7</th>\n",
       "      <td>3820267</td>\n",
       "      <td>783335</td>\n",
       "      <td>1</td>\n",
       "    </tr>\n",
       "    <tr>\n",
       "      <th>8</th>\n",
       "      <td>4037024</td>\n",
       "      <td>783335</td>\n",
       "      <td>1</td>\n",
       "    </tr>\n",
       "    <tr>\n",
       "      <th>9</th>\n",
       "      <td>5360347</td>\n",
       "      <td>783335</td>\n",
       "      <td>2</td>\n",
       "    </tr>\n",
       "  </tbody>\n",
       "</table>\n",
       "</div>"
      ],
      "text/plain": [
       "   lawyer_id  legal_case_id  rating\n",
       "0    3744247         783337       5\n",
       "1    6088646         783337       1\n",
       "2    6358113         783337       1\n",
       "3    6427203         783337       5\n",
       "4    3702793         783336       1\n",
       "5    3757156         783336       1\n",
       "6    3802228         783335       3\n",
       "7    3820267         783335       1\n",
       "8    4037024         783335       1\n",
       "9    5360347         783335       2"
      ]
     },
     "execution_count": 129,
     "metadata": {},
     "output_type": "execute_result"
    }
   ],
   "source": [
    "ratings.head(10)"
   ]
  },
  {
   "cell_type": "code",
   "execution_count": null,
   "metadata": {
    "collapsed": true
   },
   "outputs": [],
   "source": []
  }
 ],
 "metadata": {
  "kernelspec": {
   "display_name": "Python 2",
   "language": "python",
   "name": "python2"
  },
  "language_info": {
   "codemirror_mode": {
    "name": "ipython",
    "version": 2
   },
   "file_extension": ".py",
   "mimetype": "text/x-python",
   "name": "python",
   "nbconvert_exporter": "python",
   "pygments_lexer": "ipython2",
   "version": "2.7.11"
  }
 },
 "nbformat": 4,
 "nbformat_minor": 0
}
